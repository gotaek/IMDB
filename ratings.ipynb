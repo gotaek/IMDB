{
 "metadata": {
  "language_info": {
   "codemirror_mode": {
    "name": "ipython",
    "version": 3
   },
   "file_extension": ".py",
   "mimetype": "text/x-python",
   "name": "python",
   "nbconvert_exporter": "python",
   "pygments_lexer": "ipython3",
   "version": "3.8.0"
  },
  "orig_nbformat": 2,
  "kernelspec": {
   "name": "python380jvsc74a57bd0d3e21b5ebbfc1be28e10d2d6aa2ea4b1f0be2a892c7a4ecb19d1853737f51623",
   "display_name": "Python 3.8.0 32-bit"
  }
 },
 "nbformat": 4,
 "nbformat_minor": 2,
 "cells": [
  {
   "cell_type": "code",
   "execution_count": 4,
   "metadata": {},
   "outputs": [],
   "source": [
    "import csv\n",
    "import pymysql"
   ]
  },
  {
   "cell_type": "code",
   "execution_count": 5,
   "metadata": {
    "tags": []
   },
   "outputs": [],
   "source": [
    "f = open('title.ratings.tsv', 'r', encoding='utf=8')\n",
    "rd = csv.reader(f, delimiter='\\t')\n",
    "\n",
    "conn=pymysql.connect(host='localhost',user='gotaek',password='gotaek',db='IMDB')\n",
    "curs=conn.cursor(pymysql.cursors.DictCursor)\n",
    "\n",
    "sql=\"insert ignore into ratings (workId,averageRating,numVotes) values(%s,%s,%s)\"\n",
    "next(rd)\n",
    "\n",
    "i=0\n",
    "rows=[]\n",
    "for line in rd:\n",
    "    data=(line[0],line[1],line[2])\n",
    "    rows.append(data)\n",
    "    if i%10000==0:\n",
    "        curs.executemany(sql,rows)\n",
    "        conn.commit()\n",
    "        rows=[]\n",
    "        print(\"%d row\"%i)\n",
    "if rows:\n",
    "    curs.executemany(sql,rows)\n",
    "    conn.commit()\n",
    "    print(\"%d rows\"%i)\n",
    "    curs.execute(sql,data)\n",
    "    \n",
    "    conn.commit()\n",
    "\n",
    "\n",
    "curs.close()\n",
    "conn.close()\n",
    "f.close()"
   ]
  }
 ]
}