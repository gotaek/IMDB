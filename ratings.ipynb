{
 "metadata": {
  "language_info": {
   "codemirror_mode": {
    "name": "ipython",
    "version": 3
   },
   "file_extension": ".py",
   "mimetype": "text/x-python",
   "name": "python",
   "nbconvert_exporter": "python",
   "pygments_lexer": "ipython3",
   "version": 3
  },
  "orig_nbformat": 2
 },
 "nbformat": 4,
 "nbformat_minor": 2,
 "cells": [
  {
   "cell_type": "code",
   "execution_count": null,
   "metadata": {},
   "outputs": [],
   "source": [
    "f = open('title.ratings.tsv', 'r', encoding='utf=8')\n",
    "rd = csv.reader(f, delimiter='\\t')\n",
    "\n",
    "conn=pymysql.connect(host='localhost',user='gotaek',password='gotaek',db='IMDB')\n",
    "curs=conn.cursor(pymysql.cursors.DictCursor)\n",
    "\n",
    "sql=\"insert ignore into ratings (workId,averageRating,numVotes) values(%s,%s,%s)\"\n",
    "for line in rd:\n",
    "    data=(line[0],line[1],line[2])\n",
    "    print(line[0],line[1],line[2])\n",
    "    curs.execute(sql,data)\n",
    "    \n",
    "    conn.commit()\n",
    "        \n",
    "curs.close()\n",
    "conn.close()\n",
    "f.close()"
   ]
  }
 ]
}