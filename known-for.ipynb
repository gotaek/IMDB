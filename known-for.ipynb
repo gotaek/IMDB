{
 "metadata": {
  "language_info": {
   "codemirror_mode": {
    "name": "ipython",
    "version": 3
   },
   "file_extension": ".py",
   "mimetype": "text/x-python",
   "name": "python",
   "nbconvert_exporter": "python",
   "pygments_lexer": "ipython3",
   "version": "3.8.0"
  },
  "orig_nbformat": 2,
  "kernelspec": {
   "name": "python380jvsc74a57bd0d3e21b5ebbfc1be28e10d2d6aa2ea4b1f0be2a892c7a4ecb19d1853737f51623",
   "display_name": "Python 3.8.0 32-bit"
  }
 },
 "nbformat": 4,
 "nbformat_minor": 2,
 "cells": [
  {
   "cell_type": "code",
   "execution_count": 1,
   "metadata": {},
   "outputs": [],
   "source": [
    "import csv\n",
    "import pymysql"
   ]
  },
  {
   "cell_type": "code",
   "execution_count": 2,
   "metadata": {
    "tags": []
   },
   "outputs": [
    {
     "output_type": "stream",
     "name": "stdout",
     "text": [
      "('nconst', 'tconst', 'category', 'job')\njob\n"
     ]
    },
    {
     "output_type": "error",
     "ename": "NameError",
     "evalue": "name 'sql' is not defined",
     "traceback": [
      "\u001b[1;31m---------------------------------------------------------------------------\u001b[0m",
      "\u001b[1;31mNameError\u001b[0m                                 Traceback (most recent call last)",
      "\u001b[1;32m<ipython-input-2-b380e2182d34>\u001b[0m in \u001b[0;36m<module>\u001b[1;34m\u001b[0m\n\u001b[0;32m     17\u001b[0m     \u001b[0mprint\u001b[0m\u001b[1;33m(\u001b[0m\u001b[0mdata\u001b[0m\u001b[1;33m)\u001b[0m\u001b[1;33m\u001b[0m\u001b[1;33m\u001b[0m\u001b[0m\n\u001b[0;32m     18\u001b[0m     \u001b[0mprint\u001b[0m\u001b[1;33m(\u001b[0m\u001b[0mline\u001b[0m\u001b[1;33m[\u001b[0m\u001b[1;36m4\u001b[0m\u001b[1;33m]\u001b[0m\u001b[1;33m)\u001b[0m\u001b[1;33m\u001b[0m\u001b[1;33m\u001b[0m\u001b[0m\n\u001b[1;32m---> 19\u001b[1;33m     \u001b[0mcurs\u001b[0m\u001b[1;33m.\u001b[0m\u001b[0mexecute\u001b[0m\u001b[1;33m(\u001b[0m\u001b[0msql\u001b[0m\u001b[1;33m,\u001b[0m\u001b[0mdata\u001b[0m\u001b[1;33m)\u001b[0m\u001b[1;33m\u001b[0m\u001b[1;33m\u001b[0m\u001b[0m\n\u001b[0m\u001b[0;32m     20\u001b[0m     \u001b[0mconn\u001b[0m\u001b[1;33m.\u001b[0m\u001b[0mcommit\u001b[0m\u001b[1;33m(\u001b[0m\u001b[1;33m)\u001b[0m\u001b[1;33m\u001b[0m\u001b[1;33m\u001b[0m\u001b[0m\n\u001b[0;32m     21\u001b[0m \u001b[1;33m\u001b[0m\u001b[0m\n",
      "\u001b[1;31mNameError\u001b[0m: name 'sql' is not defined"
     ]
    }
   ],
   "source": [
    "f = open('title.principals.tsv', 'r', encoding='utf=8')\n",
    "rd = csv.reader(f, delimiter='\\t')\n",
    "\n",
    "conn=pymysql.connect(host='localhost',user='gotaek',password='gotaek',db='IMDB')\n",
    "curs=conn.cursor(pymysql.cursors.DictCursor)\n",
    "\n",
    "\n",
    "for line in rd:\n",
    "\n",
    "    data=(line[2],line[0],line[3],line[4])\n",
    "    if line[3]==\"actor\" or line[3]==\"actress\":\n",
    "        sql=\"insert ignore into actor_known_for (actorId,workId,job,actorCharacter) values(%s,%s,%s,%s)\"\n",
    "    elif line[3]==\"director\":\n",
    "        sql=\"insert ignore into director_known_for(directorId,workId,job,directorCharacter) values(%s,%s,%s,%s)\"\n",
    "    elif line[3]==\"writer\":\n",
    "        sql=\"insert ignore into writer_known_for(writerId,workId,job,writerCharacter) values(%s,%s,%s,%s)\"\n",
    "    else:\n",
    "        continue\n",
    "    print(data)\n",
    "    print(line[4])\n",
    "    curs.execute(sql,data)\n",
    "    conn.commit()\n",
    "\n",
    "\n",
    "curs.close()\n",
    "conn.close()\n",
    "f.close()"
   ]
  },
  {
   "cell_type": "code",
   "execution_count": null,
   "metadata": {},
   "outputs": [],
   "source": []
  }
 ]
}